{
 "cells": [
  {
   "cell_type": "markdown",
   "metadata": {},
   "source": [
    "# Pilot - Running Analysis"
   ]
  },
  {
   "cell_type": "markdown",
   "metadata": {},
   "source": [
    "This Jupyter Notebook is to quickly test feasibility of the things I want to do with this project"
   ]
  },
  {
   "cell_type": "code",
   "execution_count": 1,
   "metadata": {
    "collapsed": true
   },
   "outputs": [],
   "source": [
    "import numpy as np\n",
    "import pandas as pd\n",
    "import matplotlib.pyplot as plt\n",
    "import os\n",
    "from datetime import date\n",
    "from butterworth_distance import get_data#, smooth, distance\n",
    "from scipy import stats"
   ]
  },
  {
   "cell_type": "code",
   "execution_count": 11,
   "metadata": {
    "scrolled": false
   },
   "outputs": [
    {
     "name": "stdout",
     "output_type": "stream",
     "text": [
      "Before filtering: 4271.63\n",
      "After filtering: 3734.38\n"
     ]
    },
    {
     "data": {
      "text/plain": [
       "3734.3762259741407"
      ]
     },
     "execution_count": 11,
     "metadata": {},
     "output_type": "execute_result"
    }
   ],
   "source": [
    "def distance(data): # returns distance in m\n",
    "    nextdata = pd.DataFrame([data['lat'], data['lon'], data['time']], [\"nextlat\", \"nextlon\",\"nexttime\"])\n",
    "    nextdata = nextdata.transpose().shift(periods=-1, axis=0)\n",
    "    data = pd.concat([data, nextdata], axis=1)\n",
    "    data['time'] = pd.to_datetime(data['time'])\n",
    "    data['nexttime'] = pd.to_datetime(data['nexttime'])\n",
    "    data['timediff'] = data['nexttime'] - data['time']\n",
    "    \n",
    "    radius=6371000\n",
    "    lat = radify(data['lat']).astype(np.float64)\n",
    "    lon = radify(data['lon']).astype(np.float64)\n",
    "    nextlat = radify(data['nextlat']).astype(np.float64)\n",
    "    nextlon = radify(data['nextlon']).astype(np.float64)\n",
    "    \n",
    "    a = 2*radius\n",
    "    b = (np.sin((nextlat-lat)/2))**2\n",
    "    c = np.cos(lat) * np.cos(nextlat) * ((nextlon-lon)/2)**2\n",
    "\n",
    "    data['distbetween'] = a*np.arcsin(np.sqrt(b+c))\n",
    "    \n",
    "    # Want to exclude any pauses (gaps in GPS data longer than 8 seconds)\n",
    "    # and any slow running (pace greater than 0.67 s/m, same as speed\n",
    "    # less than 1.5 m/s)\n",
    "    data['pace'] = data['timediff'] / data['distbetween']\n",
    "    \n",
    "    maximumtime = pd.Timedelta(seconds=8)\n",
    "    maximumpace = pd.Timedelta(seconds=0.67)\n",
    "\n",
    "    data = data[(data['timediff'] <= maximumtime) | (data['pace'] <= maximumpace)]\n",
    "    \n",
    "    totaldistance = pd.DataFrame.sum(data['distbetween'], axis=0)\n",
    "    return totaldistance\n",
    "\n",
    "def radify(column):\n",
    "    return column * np.pi / 180\n",
    "    \n",
    "def get_distance(filename):\n",
    "    points = get_data(filename)\n",
    "    res = distance(points)\n",
    "    print('Before filtering: %0.2f' % res)\n",
    "    points = smooth(points)\n",
    "    res = distance(points)\n",
    "    print('After filtering: %0.2f' % res)\n",
    "    return res\n",
    "\n",
    "def smooth(data):\n",
    "    # Return Butterworth-smoothed data\n",
    "    from scipy import signal\n",
    "    b, a = signal.butter(3, 0.1)#, btype='lowpass', analog=False)\n",
    "    lat = signal.filtfilt(b, a, data['lat'])\n",
    "    lon = signal.filtfilt(b, a, data['lon'])\n",
    "    low_passed = pd.DataFrame([data['time'], lat, lon], [\"time\", \"lat\", \"lon\"])\n",
    "    low_passed = low_passed.transpose()\n",
    "    return low_passed\n",
    "\n",
    "get_distance('RK_gpx _2017-07-13_1747.gpx')"
   ]
  },
  {
   "cell_type": "code",
   "execution_count": 12,
   "metadata": {
    "collapsed": true
   },
   "outputs": [],
   "source": [
    "running_data = []\n",
    "for filename in os.listdir(os.getcwd()):\n",
    "    if (filename[-4::] == '.gpx'):\n",
    "        running_data.append(filename)"
   ]
  },
  {
   "cell_type": "code",
   "execution_count": 13,
   "metadata": {},
   "outputs": [],
   "source": [
    "running_df = pd.DataFrame(data=running_data, columns=['filename'])\n",
    "running_df['datetime'] = running_df['filename'].str.slice(start=8, stop=23)"
   ]
  },
  {
   "cell_type": "code",
   "execution_count": 14,
   "metadata": {
    "collapsed": true
   },
   "outputs": [],
   "source": [
    "# strptime stuff"
   ]
  },
  {
   "cell_type": "code",
   "execution_count": 15,
   "metadata": {
    "collapsed": true
   },
   "outputs": [],
   "source": [
    "running_df['datetime'] = pd.to_datetime(running_df['datetime'], format='%Y-%m-%d_%H%M')\n",
    "def to_timestamp(inputdatetime):\n",
    "    return inputdatetime.timestamp()\n",
    "running_df['timestamp'] = running_df['datetime'].apply(to_timestamp)"
   ]
  },
  {
   "cell_type": "code",
   "execution_count": 16,
   "metadata": {
    "scrolled": true
   },
   "outputs": [
    {
     "name": "stdout",
     "output_type": "stream",
     "text": [
      "Before filtering: 3407.44\n",
      "After filtering: 2860.75\n",
      "Before filtering: 2962.97\n",
      "After filtering: 2764.17\n",
      "Before filtering: 4966.72\n",
      "After filtering: 4691.55\n",
      "Before filtering: 3127.04\n",
      "After filtering: 1903.23\n",
      "Before filtering: 3106.24\n",
      "After filtering: 2888.65\n",
      "Before filtering: 5906.20\n",
      "After filtering: 5703.93\n",
      "Before filtering: 3865.10\n",
      "After filtering: 3092.43\n",
      "Before filtering: 4445.10\n",
      "After filtering: 4106.12\n",
      "Before filtering: 4404.16\n",
      "After filtering: 3671.72\n",
      "Before filtering: 5285.36\n",
      "After filtering: 5029.59\n",
      "Before filtering: 4271.63\n",
      "After filtering: 3734.38\n",
      "Before filtering: 4731.11\n",
      "After filtering: 4165.41\n",
      "Before filtering: 6180.04\n",
      "After filtering: 5504.51\n"
     ]
    }
   ],
   "source": [
    "running_df['distance'] = running_df['filename'].apply(get_distance)"
   ]
  },
  {
   "cell_type": "code",
   "execution_count": 17,
   "metadata": {},
   "outputs": [
    {
     "data": {
      "text/plain": [
       "(0.00038558204363696766, -573901.5689451088)"
      ]
     },
     "execution_count": 17,
     "metadata": {},
     "output_type": "execute_result"
    }
   ],
   "source": [
    "fit = stats.linregress(running_df['timestamp'], running_df['distance'])\n",
    "fit.slope, fit.intercept"
   ]
  },
  {
   "cell_type": "code",
   "execution_count": 18,
   "metadata": {},
   "outputs": [
    {
     "data": {
      "image/png": "[encoded data removed]",
      "text/plain": [
       "<matplotlib.figure.Figure at 0x10ebc79b0>"
      ]
     },
     "metadata": {},
     "output_type": "display_data"
    }
   ],
   "source": [
    "plt.figure()\n",
    "plt.plot(running_df['datetime'], running_df['distance'], 'b.', alpha = 0.5)\n",
    "plt.plot(running_df['datetime'], running_df['timestamp']*fit.slope+fit.intercept, 'r-', linewidth=3)\n",
    "plt.xticks(rotation=70)\n",
    "plt.show()"
   ]
  },
  {
   "cell_type": "code",
   "execution_count": 19,
   "metadata": {},
   "outputs": [
    {
     "name": "stdout",
     "output_type": "stream",
     "text": [
      "The p-value is 0.0743784782066\n"
     ]
    }
   ],
   "source": [
    "print('The p-value is', fit.pvalue)"
   ]
  },
  {
   "cell_type": "code",
   "execution_count": null,
   "metadata": {
    "collapsed": true
   },
   "outputs": [],
   "source": []
  },
  {
   "cell_type": "code",
   "execution_count": null,
   "metadata": {
    "collapsed": true
   },
   "outputs": [],
   "source": []
  },
  {
   "cell_type": "code",
   "execution_count": null,
   "metadata": {
    "collapsed": true
   },
   "outputs": [],
   "source": []
  }
 ],
 "metadata": {
  "kernelspec": {
   "display_name": "Python 3",
   "language": "python",
   "name": "python3"
  },
  "language_info": {
   "codemirror_mode": {
    "name": "ipython",
    "version": 3
   },
   "file_extension": ".py",
   "mimetype": "text/x-python",
   "name": "python",
   "nbconvert_exporter": "python",
   "pygments_lexer": "ipython3",
   "version": "3.5.3"
  }
 },
 "nbformat": 4,
 "nbformat_minor": 2
}
