{
 "cells": [
  {
   "cell_type": "markdown",
   "metadata": {},
   "source": [
    "# Pilot - Running Analysis"
   ]
  },
  {
   "cell_type": "markdown",
   "metadata": {},
   "source": [
    "This Jupyter Notebook is to quickly test feasibility of the things I want to do with this project"
   ]
  },
  {
   "cell_type": "code",
   "execution_count": null,
   "metadata": {
    "collapsed": true
   },
   "outputs": [],
   "source": [
    "import numpy as np\n",
    "import pandas as pd\n",
    "import matplotlib.pyplot as plt\n",
    "import os\n",
    "from datetime import date\n",
    "from butterworth_distance import get_data#, smooth, distance\n",
    "from scipy import stats\n",
    "import seaborn\n",
    "seaborn.set()"
   ]
  },
  {
   "cell_type": "code",
   "execution_count": 2,
   "metadata": {
    "scrolled": false
   },
   "outputs": [],
   "source": [
    "def distance(data): # returns distance in m\n",
    "#    d = d\n",
    "    nextdata = pd.DataFrame([data['lat'].values, data['lon'].values, data['time'].values], [\"nextlat\", \"nextlon\",\"nexttime\"])\n",
    "    nextdata = nextdata.transpose().shift(periods=-1, axis=0)\n",
    "    data = pd.concat([data, nextdata], axis=1)\n",
    "    data['time'] = pd.to_datetime(data['time'])\n",
    "    data['nexttime'] = pd.to_datetime(data['nexttime'])\n",
    "    data['timediff'] = data['nexttime'] - data['time']\n",
    "    \n",
    "    radius=6371000\n",
    "    lat = radify(data['lat']).astype(np.float64)\n",
    "    lon = radify(data['lon']).astype(np.float64)\n",
    "    nextlat = radify(data['nextlat']).astype(np.float64)\n",
    "    nextlon = radify(data['nextlon']).astype(np.float64)\n",
    "    \n",
    "    a = 2*radius\n",
    "    b = (np.sin((nextlat-lat)/2))**2\n",
    "    c = np.cos(lat) * np.cos(nextlat) * ((nextlon-lon)/2)**2\n",
    "\n",
    "    data['distbetween'] = a*np.arcsin(np.sqrt(b+c))\n",
    "    \n",
    "    # Want to exclude any pauses (gaps in GPS data longer than 8 seconds)\n",
    "    # and any slow running (pace greater than 0.67 s/m, same as speed\n",
    "    # less than 1.5 m/s)\n",
    "    data['pace'] = data['timediff'] / data['distbetween']\n",
    "    \n",
    "    maximumtime = pd.Timedelta(seconds=8)\n",
    "    maximumpace = pd.Timedelta(seconds=0.67)\n",
    "\n",
    "    selecteddata = data[(data['timediff'] <= maximumtime) | (data['pace'] <= maximumpace)]\n",
    "    \n",
    "    totaldistance = pd.DataFrame.sum(selecteddata['distbetween'], axis=0)\n",
    "    return totaldistance\n",
    "\n",
    "def radify(column):\n",
    "    return column * np.pi / 180\n",
    "    \n",
    "def get_distance(filename, bool):\n",
    "    points = get_data(filename)\n",
    "    if bool:\n",
    "        latlon = pd.DataFrame([points['lat'], points['lon']]).transpose()\n",
    "        pointsre = smooth(latlon)\n",
    "        points.drop(labels=['lat', 'lon'], axis=1, inplace=True)\n",
    "        points = pd.concat([points, pointsre], axis=1)\n",
    "        res = distance(points)\n",
    "        #print('Smoothing: %0.2f' % res)\n",
    "    else:\n",
    "        res = distance(points)\n",
    "        #print('No smoothing: %0.2f' % res)\n",
    "    return res\n",
    "\n",
    "def smooth(data):\n",
    "    # Return Butterworth-smoothed data\n",
    "    from scipy import signal\n",
    "    b, a = signal.butter(3, 0.3, btype='low', analog=False)\n",
    "    lat = signal.filtfilt(b, a, data['lat'])\n",
    "    lon = signal.filtfilt(b, a, data['lon'])\n",
    "    low_passed = pd.DataFrame([lat, lon], [\"lat\", \"lon\"]).transpose()\n",
    "    #low_passed = low_passed.transpose()\n",
    "    return low_passed\n",
    "\n",
    "\n",
    "get_distance('RK_gpx _2017-07-13_1747.gpx', True)\n",
    "get_distance = np.vectorize(get_distance)"
   ]
  },
  {
   "cell_type": "code",
   "execution_count": 3,
   "metadata": {
    "collapsed": true
   },
   "outputs": [],
   "source": [
    "running_data = []\n",
    "for filename in os.listdir(os.getcwd()):\n",
    "    if (filename[-4::] == '.gpx'):\n",
    "        running_data.append(filename)"
   ]
  },
  {
   "cell_type": "code",
   "execution_count": 4,
   "metadata": {},
   "outputs": [],
   "source": [
    "running_df = pd.DataFrame(data=running_data, columns=['filename'])\n",
    "running_df['datetime'] = running_df['filename'].str.slice(start=8, stop=23)"
   ]
  },
  {
   "cell_type": "code",
   "execution_count": 5,
   "metadata": {
    "collapsed": true
   },
   "outputs": [],
   "source": [
    "# strptime stuff"
   ]
  },
  {
   "cell_type": "code",
   "execution_count": 6,
   "metadata": {
    "collapsed": true
   },
   "outputs": [],
   "source": [
    "running_df['datetime'] = pd.to_datetime(running_df['datetime'], format='%Y-%m-%d_%H%M')\n",
    "def to_timestamp(inputdatetime):\n",
    "    return inputdatetime.timestamp()\n",
    "running_df['timestamp'] = running_df['datetime'].apply(to_timestamp)"
   ]
  },
  {
   "cell_type": "code",
   "execution_count": 7,
   "metadata": {
    "scrolled": true
   },
   "outputs": [],
   "source": [
    "running_df['distance1'] = get_distance(running_df['filename'], True)\n",
    "running_df['distance2'] = get_distance(running_df['filename'], False)"
   ]
  },
  {
   "cell_type": "code",
   "execution_count": 8,
   "metadata": {},
   "outputs": [],
   "source": [
    "fit1 = stats.linregress(running_df['timestamp'], running_df['distance1'])\n",
    "fit2 = stats.linregress(running_df['timestamp'], running_df['distance2'])"
   ]
  },
  {
   "cell_type": "code",
   "execution_count": 9,
   "metadata": {},
   "outputs": [
    {
     "name": "stdout",
     "output_type": "stream",
     "text": [
      "The p-value is 0.0304633956198\n",
      "The p-value is 0.0134747311063\n"
     ]
    }
   ],
   "source": [
    "print('The p-value is', fit1.pvalue)\n",
    "print('The p-value is', fit2.pvalue)"
   ]
  },
  {
   "cell_type": "code",
   "execution_count": 19,
   "metadata": {},
   "outputs": [
    {
     "data": {
      "image/png": "[encoded data removed]",
      "text/plain": [
       "<matplotlib.figure.Figure at 0x110f09320>"
      ]
     },
     "metadata": {},
     "output_type": "display_data"
    }
   ],
   "source": [
    "plt.figure()\n",
    "plt.plot(running_df['datetime'], running_df['distance1'], 'b.', alpha = 0.5, label='hello')\n",
    "plt.plot(running_df['datetime'], running_df['timestamp']*fit1.slope+fit1.intercept, 'b-', linewidth=3, label='hello2')\n",
    "plt.plot(running_df['datetime'], running_df['distance2'], 'r.', alpha = 0.5)\n",
    "plt.plot(running_df['datetime'], running_df['timestamp']*fit2.slope+fit2.intercept, 'r-', linewidth=3)\n",
    "plt.xticks(rotation=70)\n",
    "plt.legend()\n",
    "plt.show()\n",
    "#plt.figure()\n",
    "\n",
    "#plt.xticks(rotation=70)\n",
    "#plt.show()"
   ]
  },
  {
   "cell_type": "code",
   "execution_count": null,
   "metadata": {
    "collapsed": true
   },
   "outputs": [],
   "source": []
  },
  {
   "cell_type": "code",
   "execution_count": null,
   "metadata": {
    "collapsed": true
   },
   "outputs": [],
   "source": []
  },
  {
   "cell_type": "code",
   "execution_count": null,
   "metadata": {
    "collapsed": true
   },
   "outputs": [],
   "source": []
  }
 ],
 "metadata": {
  "kernelspec": {
   "display_name": "Python 3",
   "language": "python",
   "name": "python3"
  },
  "language_info": {
   "codemirror_mode": {
    "name": "ipython",
    "version": 3
   },
   "file_extension": ".py",
   "mimetype": "text/x-python",
   "name": "python",
   "nbconvert_exporter": "python",
   "pygments_lexer": "ipython3",
   "version": "3.5.3"
  }
 },
 "nbformat": 4,
 "nbformat_minor": 2
}
