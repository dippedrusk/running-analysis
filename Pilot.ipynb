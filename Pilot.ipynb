{
 "cells": [
  {
   "cell_type": "code",
   "execution_count": 86,
   "metadata": {
    "collapsed": true
   },
   "outputs": [],
   "source": [
    "import numpy as np\n",
    "import pandas as pd\n",
    "import matplotlib.pyplot as plt\n",
    "import os\n",
    "from calc_distance import get_data, distance, smooth\n",
    "from scipy import stats"
   ]
  },
  {
   "cell_type": "code",
   "execution_count": 87,
   "metadata": {
    "collapsed": true
   },
   "outputs": [],
   "source": [
    "running_data = []"
   ]
  },
  {
   "cell_type": "code",
   "execution_count": 88,
   "metadata": {},
   "outputs": [],
   "source": [
    "for filename in os.listdir(os.getcwd()):\n",
    "    if (filename[-4::] == '.gpx'):\n",
    "        running_data.append(filename)"
   ]
  },
  {
   "cell_type": "code",
   "execution_count": 89,
   "metadata": {},
   "outputs": [
    {
     "data": {
      "text/html": [
       "<div>\n",
       "<style>\n",
       "    .dataframe thead tr:only-child th {\n",
       "        text-align: right;\n",
       "    }\n",
       "\n",
       "    .dataframe thead th {\n",
       "        text-align: left;\n",
       "    }\n",
       "\n",
       "    .dataframe tbody tr th {\n",
       "        vertical-align: top;\n",
       "    }\n",
       "</style>\n",
       "<table border=\"1\" class=\"dataframe\">\n",
       "  <thead>\n",
       "    <tr style=\"text-align: right;\">\n",
       "      <th></th>\n",
       "      <th>filename</th>\n",
       "    </tr>\n",
       "  </thead>\n",
       "  <tbody>\n",
       "    <tr>\n",
       "      <th>0</th>\n",
       "      <td>RK_gpx _2017-05-27_1631.gpx</td>\n",
       "    </tr>\n",
       "    <tr>\n",
       "      <th>1</th>\n",
       "      <td>RK_gpx _2017-05-28_1722.gpx</td>\n",
       "    </tr>\n",
       "    <tr>\n",
       "      <th>2</th>\n",
       "      <td>RK_gpx _2017-06-10_1653.gpx</td>\n",
       "    </tr>\n",
       "    <tr>\n",
       "      <th>3</th>\n",
       "      <td>RK_gpx _2017-06-11_1650.gpx</td>\n",
       "    </tr>\n",
       "    <tr>\n",
       "      <th>4</th>\n",
       "      <td>RK_gpx _2017-06-16_1719.gpx</td>\n",
       "    </tr>\n",
       "    <tr>\n",
       "      <th>5</th>\n",
       "      <td>RK_gpx _2017-06-19_1708.gpx</td>\n",
       "    </tr>\n",
       "    <tr>\n",
       "      <th>6</th>\n",
       "      <td>RK_gpx _2017-06-28_1827.gpx</td>\n",
       "    </tr>\n",
       "    <tr>\n",
       "      <th>7</th>\n",
       "      <td>RK_gpx _2017-07-03_2055.gpx</td>\n",
       "    </tr>\n",
       "    <tr>\n",
       "      <th>8</th>\n",
       "      <td>RK_gpx _2017-07-07_1620.gpx</td>\n",
       "    </tr>\n",
       "    <tr>\n",
       "      <th>9</th>\n",
       "      <td>RK_gpx _2017-07-08_1651.gpx</td>\n",
       "    </tr>\n",
       "    <tr>\n",
       "      <th>10</th>\n",
       "      <td>RK_gpx _2017-07-13_1747.gpx</td>\n",
       "    </tr>\n",
       "    <tr>\n",
       "      <th>11</th>\n",
       "      <td>RK_gpx _2017-07-15_0856.gpx</td>\n",
       "    </tr>\n",
       "    <tr>\n",
       "      <th>12</th>\n",
       "      <td>RK_gpx _2017-07-17_1741.gpx</td>\n",
       "    </tr>\n",
       "  </tbody>\n",
       "</table>\n",
       "</div>"
      ],
      "text/plain": [
       "                       filename\n",
       "0   RK_gpx _2017-05-27_1631.gpx\n",
       "1   RK_gpx _2017-05-28_1722.gpx\n",
       "2   RK_gpx _2017-06-10_1653.gpx\n",
       "3   RK_gpx _2017-06-11_1650.gpx\n",
       "4   RK_gpx _2017-06-16_1719.gpx\n",
       "5   RK_gpx _2017-06-19_1708.gpx\n",
       "6   RK_gpx _2017-06-28_1827.gpx\n",
       "7   RK_gpx _2017-07-03_2055.gpx\n",
       "8   RK_gpx _2017-07-07_1620.gpx\n",
       "9   RK_gpx _2017-07-08_1651.gpx\n",
       "10  RK_gpx _2017-07-13_1747.gpx\n",
       "11  RK_gpx _2017-07-15_0856.gpx\n",
       "12  RK_gpx _2017-07-17_1741.gpx"
      ]
     },
     "execution_count": 89,
     "metadata": {},
     "output_type": "execute_result"
    }
   ],
   "source": [
    "running_df = pd.DataFrame(data=running_data, columns=['filename'])\n",
    "running_df"
   ]
  },
  {
   "cell_type": "code",
   "execution_count": 90,
   "metadata": {},
   "outputs": [],
   "source": [
    "def get_distance(filename):\n",
    "    points = get_data(filename)\n",
    "    print('Unfiltered distance: %0.2f' % (distance(points),))\n",
    "    smoothed_points = smooth(points)\n",
    "    res = distance(smoothed_points)\n",
    "    print('Filtered distance: %0.2f' % (distance(smoothed_points),))\n",
    "    return res"
   ]
  },
  {
   "cell_type": "code",
   "execution_count": 91,
   "metadata": {
    "collapsed": true
   },
   "outputs": [],
   "source": [
    "get_distance = np.vectorize(get_distance)"
   ]
  },
  {
   "cell_type": "code",
   "execution_count": 92,
   "metadata": {},
   "outputs": [
    {
     "name": "stdout",
     "output_type": "stream",
     "text": [
      "Unfiltered distance: 3871.82\n",
      "Filtered distance: 3304.44\n",
      "Unfiltered distance: 3871.82\n",
      "Filtered distance: 3304.44\n",
      "Unfiltered distance: 3134.74\n",
      "Filtered distance: 2897.73\n",
      "Unfiltered distance: 5052.79\n",
      "Filtered distance: 4764.52\n",
      "Unfiltered distance: 4388.99\n",
      "Filtered distance: 3360.57\n",
      "Unfiltered distance: 3847.82\n",
      "Filtered distance: 3568.52\n",
      "Unfiltered distance: 6035.81\n",
      "Filtered distance: 5826.51\n",
      "Unfiltered distance: 4123.43\n",
      "Filtered distance: 3320.75\n",
      "Unfiltered distance: 4574.46\n",
      "Filtered distance: 4263.20\n",
      "Unfiltered distance: 5028.56\n",
      "Filtered distance: 4491.91\n",
      "Unfiltered distance: 5351.77\n",
      "Filtered distance: 5097.90\n",
      "Unfiltered distance: 4733.38\n",
      "Filtered distance: 4344.06\n",
      "Unfiltered distance: 4839.61\n",
      "Filtered distance: 4258.83\n",
      "Unfiltered distance: 6369.84\n",
      "Filtered distance: 5699.30\n"
     ]
    }
   ],
   "source": [
    "running_df['distance'] = get_distance(running_df['filename'])"
   ]
  },
  {
   "cell_type": "code",
   "execution_count": 99,
   "metadata": {},
   "outputs": [],
   "source": [
    "running_df = running_df.reset_index()"
   ]
  },
  {
   "cell_type": "code",
   "execution_count": 100,
   "metadata": {},
   "outputs": [
    {
     "data": {
      "image/png": "[encoded data removed]",
      "text/plain": [
       "<matplotlib.figure.Figure at 0x1195db588>"
      ]
     },
     "metadata": {},
     "output_type": "display_data"
    }
   ],
   "source": [
    "plt.plot(running_df['distance'], 'b.', alpha = 0.5)\n",
    "plt.show()"
   ]
  },
  {
   "cell_type": "code",
   "execution_count": 112,
   "metadata": {},
   "outputs": [
    {
     "data": {
      "text/plain": [
       "(137.2982447975196, 3422.2299531744939)"
      ]
     },
     "execution_count": 112,
     "metadata": {},
     "output_type": "execute_result"
    }
   ],
   "source": [
    "fit = stats.linregress(running_df['index'],running_df['distance'])\n",
    "fit.slope, fit.intercept"
   ]
  },
  {
   "cell_type": "code",
   "execution_count": 114,
   "metadata": {},
   "outputs": [
    {
     "data": {
      "image/png": "[encoded data removed]",
      "text/plain": [
       "<matplotlib.figure.Figure at 0x1153a2a90>"
      ]
     },
     "metadata": {},
     "output_type": "display_data"
    }
   ],
   "source": [
    "plt.figure()\n",
    "plt.plot(running_df['distance'], 'b.', alpha = 0.5)\n",
    "plt.plot(running_df['index']*fit.slope + fit.intercept, 'r-', linewidth=3)\n",
    "plt.show()"
   ]
  },
  {
   "cell_type": "code",
   "execution_count": 115,
   "metadata": {},
   "outputs": [
    {
     "name": "stdout",
     "output_type": "stream",
     "text": [
      "The p-value is 0.041006735584\n"
     ]
    }
   ],
   "source": [
    "print('The p-value is', fit.pvalue)"
   ]
  },
  {
   "cell_type": "code",
   "execution_count": null,
   "metadata": {
    "collapsed": true
   },
   "outputs": [],
   "source": []
  }
 ],
 "metadata": {
  "kernelspec": {
   "display_name": "Python 3",
   "language": "python",
   "name": "python3"
  },
  "language_info": {
   "codemirror_mode": {
    "name": "ipython",
    "version": 3
   },
   "file_extension": ".py",
   "mimetype": "text/x-python",
   "name": "python",
   "nbconvert_exporter": "python",
   "pygments_lexer": "ipython3",
   "version": "3.5.3"
  }
 },
 "nbformat": 4,
 "nbformat_minor": 2
}
