{
 "cells": [
  {
   "cell_type": "markdown",
   "metadata": {},
   "source": [
    "# Pilot - Running Analysis"
   ]
  },
  {
   "cell_type": "markdown",
   "metadata": {},
   "source": [
    "This Jupyter Notebook is to quickly test feasibility of the things I want to do with this project"
   ]
  },
  {
   "cell_type": "code",
   "execution_count": 140,
   "metadata": {
    "collapsed": true
   },
   "outputs": [],
   "source": [
    "import numpy as np\n",
    "import pandas as pd\n",
    "import matplotlib.pyplot as plt\n",
    "import os\n",
    "from datetime import date\n",
    "from butterworth_distance import main\n",
    "from calc_distance import get_data, smooth, distance\n",
    "from scipy import stats"
   ]
  },
  {
   "cell_type": "code",
   "execution_count": 141,
   "metadata": {
    "collapsed": true
   },
   "outputs": [],
   "source": [
    "running_data = []"
   ]
  },
  {
   "cell_type": "code",
   "execution_count": 142,
   "metadata": {},
   "outputs": [],
   "source": [
    "for filename in os.listdir(os.getcwd()):\n",
    "    if (filename[-4::] == '.gpx'):\n",
    "        running_data.append(filename)"
   ]
  },
  {
   "cell_type": "code",
   "execution_count": 143,
   "metadata": {},
   "outputs": [
    {
     "data": {
      "text/html": [
       "<div>\n",
       "<style>\n",
       "    .dataframe thead tr:only-child th {\n",
       "        text-align: right;\n",
       "    }\n",
       "\n",
       "    .dataframe thead th {\n",
       "        text-align: left;\n",
       "    }\n",
       "\n",
       "    .dataframe tbody tr th {\n",
       "        vertical-align: top;\n",
       "    }\n",
       "</style>\n",
       "<table border=\"1\" class=\"dataframe\">\n",
       "  <thead>\n",
       "    <tr style=\"text-align: right;\">\n",
       "      <th></th>\n",
       "      <th>filename</th>\n",
       "      <th>datetime</th>\n",
       "    </tr>\n",
       "  </thead>\n",
       "  <tbody>\n",
       "    <tr>\n",
       "      <th>0</th>\n",
       "      <td>RK_gpx _2017-05-27_1631.gpx</td>\n",
       "      <td>2017-05-27_1631</td>\n",
       "    </tr>\n",
       "    <tr>\n",
       "      <th>1</th>\n",
       "      <td>RK_gpx _2017-05-28_1722.gpx</td>\n",
       "      <td>2017-05-28_1722</td>\n",
       "    </tr>\n",
       "    <tr>\n",
       "      <th>2</th>\n",
       "      <td>RK_gpx _2017-06-10_1653.gpx</td>\n",
       "      <td>2017-06-10_1653</td>\n",
       "    </tr>\n",
       "    <tr>\n",
       "      <th>3</th>\n",
       "      <td>RK_gpx _2017-06-11_1650.gpx</td>\n",
       "      <td>2017-06-11_1650</td>\n",
       "    </tr>\n",
       "    <tr>\n",
       "      <th>4</th>\n",
       "      <td>RK_gpx _2017-06-16_1719.gpx</td>\n",
       "      <td>2017-06-16_1719</td>\n",
       "    </tr>\n",
       "    <tr>\n",
       "      <th>5</th>\n",
       "      <td>RK_gpx _2017-06-19_1708.gpx</td>\n",
       "      <td>2017-06-19_1708</td>\n",
       "    </tr>\n",
       "    <tr>\n",
       "      <th>6</th>\n",
       "      <td>RK_gpx _2017-06-28_1827.gpx</td>\n",
       "      <td>2017-06-28_1827</td>\n",
       "    </tr>\n",
       "    <tr>\n",
       "      <th>7</th>\n",
       "      <td>RK_gpx _2017-07-03_2055.gpx</td>\n",
       "      <td>2017-07-03_2055</td>\n",
       "    </tr>\n",
       "    <tr>\n",
       "      <th>8</th>\n",
       "      <td>RK_gpx _2017-07-07_1620.gpx</td>\n",
       "      <td>2017-07-07_1620</td>\n",
       "    </tr>\n",
       "    <tr>\n",
       "      <th>9</th>\n",
       "      <td>RK_gpx _2017-07-08_1651.gpx</td>\n",
       "      <td>2017-07-08_1651</td>\n",
       "    </tr>\n",
       "    <tr>\n",
       "      <th>10</th>\n",
       "      <td>RK_gpx _2017-07-13_1747.gpx</td>\n",
       "      <td>2017-07-13_1747</td>\n",
       "    </tr>\n",
       "    <tr>\n",
       "      <th>11</th>\n",
       "      <td>RK_gpx _2017-07-15_0856.gpx</td>\n",
       "      <td>2017-07-15_0856</td>\n",
       "    </tr>\n",
       "    <tr>\n",
       "      <th>12</th>\n",
       "      <td>RK_gpx _2017-07-17_1741.gpx</td>\n",
       "      <td>2017-07-17_1741</td>\n",
       "    </tr>\n",
       "  </tbody>\n",
       "</table>\n",
       "</div>"
      ],
      "text/plain": [
       "                       filename         datetime\n",
       "0   RK_gpx _2017-05-27_1631.gpx  2017-05-27_1631\n",
       "1   RK_gpx _2017-05-28_1722.gpx  2017-05-28_1722\n",
       "2   RK_gpx _2017-06-10_1653.gpx  2017-06-10_1653\n",
       "3   RK_gpx _2017-06-11_1650.gpx  2017-06-11_1650\n",
       "4   RK_gpx _2017-06-16_1719.gpx  2017-06-16_1719\n",
       "5   RK_gpx _2017-06-19_1708.gpx  2017-06-19_1708\n",
       "6   RK_gpx _2017-06-28_1827.gpx  2017-06-28_1827\n",
       "7   RK_gpx _2017-07-03_2055.gpx  2017-07-03_2055\n",
       "8   RK_gpx _2017-07-07_1620.gpx  2017-07-07_1620\n",
       "9   RK_gpx _2017-07-08_1651.gpx  2017-07-08_1651\n",
       "10  RK_gpx _2017-07-13_1747.gpx  2017-07-13_1747\n",
       "11  RK_gpx _2017-07-15_0856.gpx  2017-07-15_0856\n",
       "12  RK_gpx _2017-07-17_1741.gpx  2017-07-17_1741"
      ]
     },
     "execution_count": 143,
     "metadata": {},
     "output_type": "execute_result"
    }
   ],
   "source": [
    "running_df = pd.DataFrame(data=running_data, columns=['filename'])\n",
    "running_df['datetime'] = running_df['filename'].str.slice(start=8, stop=23)\n",
    "running_df"
   ]
  },
  {
   "cell_type": "code",
   "execution_count": 144,
   "metadata": {
    "collapsed": true
   },
   "outputs": [],
   "source": [
    "# strptime stuff"
   ]
  },
  {
   "cell_type": "code",
   "execution_count": 145,
   "metadata": {},
   "outputs": [],
   "source": [
    "running_df['datetime'] = pd.to_datetime(running_df['datetime'], format='%Y-%m-%d_%H%M')\n",
    "def to_timestamp(inputdatetime):\n",
    "    return inputdatetime.timestamp()\n",
    "running_df['timestamp'] = running_df['datetime'].apply(to_timestamp)"
   ]
  },
  {
   "cell_type": "code",
   "execution_count": 146,
   "metadata": {},
   "outputs": [
    {
     "data": {
      "text/html": [
       "<div>\n",
       "<style>\n",
       "    .dataframe thead tr:only-child th {\n",
       "        text-align: right;\n",
       "    }\n",
       "\n",
       "    .dataframe thead th {\n",
       "        text-align: left;\n",
       "    }\n",
       "\n",
       "    .dataframe tbody tr th {\n",
       "        vertical-align: top;\n",
       "    }\n",
       "</style>\n",
       "<table border=\"1\" class=\"dataframe\">\n",
       "  <thead>\n",
       "    <tr style=\"text-align: right;\">\n",
       "      <th></th>\n",
       "      <th>filename</th>\n",
       "      <th>datetime</th>\n",
       "      <th>timestamp</th>\n",
       "    </tr>\n",
       "  </thead>\n",
       "  <tbody>\n",
       "    <tr>\n",
       "      <th>0</th>\n",
       "      <td>RK_gpx _2017-05-27_1631.gpx</td>\n",
       "      <td>2017-05-27 16:31:00</td>\n",
       "      <td>1.495928e+09</td>\n",
       "    </tr>\n",
       "    <tr>\n",
       "      <th>1</th>\n",
       "      <td>RK_gpx _2017-05-28_1722.gpx</td>\n",
       "      <td>2017-05-28 17:22:00</td>\n",
       "      <td>1.496017e+09</td>\n",
       "    </tr>\n",
       "    <tr>\n",
       "      <th>2</th>\n",
       "      <td>RK_gpx _2017-06-10_1653.gpx</td>\n",
       "      <td>2017-06-10 16:53:00</td>\n",
       "      <td>1.497139e+09</td>\n",
       "    </tr>\n",
       "    <tr>\n",
       "      <th>3</th>\n",
       "      <td>RK_gpx _2017-06-11_1650.gpx</td>\n",
       "      <td>2017-06-11 16:50:00</td>\n",
       "      <td>1.497225e+09</td>\n",
       "    </tr>\n",
       "    <tr>\n",
       "      <th>4</th>\n",
       "      <td>RK_gpx _2017-06-16_1719.gpx</td>\n",
       "      <td>2017-06-16 17:19:00</td>\n",
       "      <td>1.497659e+09</td>\n",
       "    </tr>\n",
       "    <tr>\n",
       "      <th>5</th>\n",
       "      <td>RK_gpx _2017-06-19_1708.gpx</td>\n",
       "      <td>2017-06-19 17:08:00</td>\n",
       "      <td>1.497917e+09</td>\n",
       "    </tr>\n",
       "    <tr>\n",
       "      <th>6</th>\n",
       "      <td>RK_gpx _2017-06-28_1827.gpx</td>\n",
       "      <td>2017-06-28 18:27:00</td>\n",
       "      <td>1.498700e+09</td>\n",
       "    </tr>\n",
       "    <tr>\n",
       "      <th>7</th>\n",
       "      <td>RK_gpx _2017-07-03_2055.gpx</td>\n",
       "      <td>2017-07-03 20:55:00</td>\n",
       "      <td>1.499140e+09</td>\n",
       "    </tr>\n",
       "    <tr>\n",
       "      <th>8</th>\n",
       "      <td>RK_gpx _2017-07-07_1620.gpx</td>\n",
       "      <td>2017-07-07 16:20:00</td>\n",
       "      <td>1.499470e+09</td>\n",
       "    </tr>\n",
       "    <tr>\n",
       "      <th>9</th>\n",
       "      <td>RK_gpx _2017-07-08_1651.gpx</td>\n",
       "      <td>2017-07-08 16:51:00</td>\n",
       "      <td>1.499558e+09</td>\n",
       "    </tr>\n",
       "    <tr>\n",
       "      <th>10</th>\n",
       "      <td>RK_gpx _2017-07-13_1747.gpx</td>\n",
       "      <td>2017-07-13 17:47:00</td>\n",
       "      <td>1.499993e+09</td>\n",
       "    </tr>\n",
       "    <tr>\n",
       "      <th>11</th>\n",
       "      <td>RK_gpx _2017-07-15_0856.gpx</td>\n",
       "      <td>2017-07-15 08:56:00</td>\n",
       "      <td>1.500134e+09</td>\n",
       "    </tr>\n",
       "    <tr>\n",
       "      <th>12</th>\n",
       "      <td>RK_gpx _2017-07-17_1741.gpx</td>\n",
       "      <td>2017-07-17 17:41:00</td>\n",
       "      <td>1.500338e+09</td>\n",
       "    </tr>\n",
       "  </tbody>\n",
       "</table>\n",
       "</div>"
      ],
      "text/plain": [
       "                       filename            datetime     timestamp\n",
       "0   RK_gpx _2017-05-27_1631.gpx 2017-05-27 16:31:00  1.495928e+09\n",
       "1   RK_gpx _2017-05-28_1722.gpx 2017-05-28 17:22:00  1.496017e+09\n",
       "2   RK_gpx _2017-06-10_1653.gpx 2017-06-10 16:53:00  1.497139e+09\n",
       "3   RK_gpx _2017-06-11_1650.gpx 2017-06-11 16:50:00  1.497225e+09\n",
       "4   RK_gpx _2017-06-16_1719.gpx 2017-06-16 17:19:00  1.497659e+09\n",
       "5   RK_gpx _2017-06-19_1708.gpx 2017-06-19 17:08:00  1.497917e+09\n",
       "6   RK_gpx _2017-06-28_1827.gpx 2017-06-28 18:27:00  1.498700e+09\n",
       "7   RK_gpx _2017-07-03_2055.gpx 2017-07-03 20:55:00  1.499140e+09\n",
       "8   RK_gpx _2017-07-07_1620.gpx 2017-07-07 16:20:00  1.499470e+09\n",
       "9   RK_gpx _2017-07-08_1651.gpx 2017-07-08 16:51:00  1.499558e+09\n",
       "10  RK_gpx _2017-07-13_1747.gpx 2017-07-13 17:47:00  1.499993e+09\n",
       "11  RK_gpx _2017-07-15_0856.gpx 2017-07-15 08:56:00  1.500134e+09\n",
       "12  RK_gpx _2017-07-17_1741.gpx 2017-07-17 17:41:00  1.500338e+09"
      ]
     },
     "execution_count": 146,
     "metadata": {},
     "output_type": "execute_result"
    }
   ],
   "source": [
    "running_df"
   ]
  },
  {
   "cell_type": "raw",
   "metadata": {},
   "source": [
    "# I want for each run the distances, times and average speeds"
   ]
  },
  {
   "cell_type": "code",
   "execution_count": 147,
   "metadata": {
    "collapsed": true
   },
   "outputs": [],
   "source": [
    "def get_distance(filename):\n",
    "    points = get_data(filename)\n",
    "    print('Unfiltered distance: %0.2f' % (distance(points),))\n",
    "    smoothed_points = smooth(points)\n",
    "    res = distance(smoothed_points)\n",
    "    print('Filtered distance: %0.2f' % (distance(smoothed_points),))\n",
    "    return res"
   ]
  },
  {
   "cell_type": "code",
   "execution_count": 148,
   "metadata": {
    "collapsed": true
   },
   "outputs": [],
   "source": [
    "get_distance = np.vectorize(get_distance)"
   ]
  },
  {
   "cell_type": "code",
   "execution_count": 149,
   "metadata": {},
   "outputs": [
    {
     "name": "stdout",
     "output_type": "stream",
     "text": [
      "Unfiltered distance: 3871.82\n",
      "Filtered distance: 3304.44\n",
      "Unfiltered distance: 3871.82\n",
      "Filtered distance: 3304.44\n",
      "Unfiltered distance: 3134.74\n",
      "Filtered distance: 2897.73\n",
      "Unfiltered distance: 5052.79\n",
      "Filtered distance: 4764.52\n",
      "Unfiltered distance: 4388.99\n",
      "Filtered distance: 3360.57\n",
      "Unfiltered distance: 3847.82\n",
      "Filtered distance: 3568.52\n",
      "Unfiltered distance: 6035.81\n",
      "Filtered distance: 5826.51\n",
      "Unfiltered distance: 4123.43\n",
      "Filtered distance: 3320.75\n",
      "Unfiltered distance: 4574.46\n",
      "Filtered distance: 4263.20\n",
      "Unfiltered distance: 5028.56\n",
      "Filtered distance: 4491.91\n",
      "Unfiltered distance: 5351.77\n",
      "Filtered distance: 5097.90\n",
      "Unfiltered distance: 4733.38\n",
      "Filtered distance: 4344.06\n",
      "Unfiltered distance: 4839.61\n",
      "Filtered distance: 4258.83\n",
      "Unfiltered distance: 6369.84\n",
      "Filtered distance: 5699.30\n"
     ]
    }
   ],
   "source": [
    "running_df['distance'] = get_distance(running_df['filename'])"
   ]
  },
  {
   "cell_type": "code",
   "execution_count": 150,
   "metadata": {
    "collapsed": true
   },
   "outputs": [],
   "source": [
    "#running_df = running_df.reset_index()"
   ]
  },
  {
   "cell_type": "code",
   "execution_count": 151,
   "metadata": {
    "scrolled": true
   },
   "outputs": [
    {
     "data": {
      "image/png": "[encoded data removed]",
      "text/plain": [
       "<matplotlib.figure.Figure at 0x1141ef748>"
      ]
     },
     "metadata": {},
     "output_type": "display_data"
    }
   ],
   "source": [
    "plt.plot(running_df['timestamp'], running_df['distance'], 'b.', alpha = 0.5)\n",
    "plt.show()"
   ]
  },
  {
   "cell_type": "code",
   "execution_count": 152,
   "metadata": {},
   "outputs": [
    {
     "data": {
      "text/plain": [
       "(0.0003449020721332157, -512555.73363153753)"
      ]
     },
     "execution_count": 152,
     "metadata": {},
     "output_type": "execute_result"
    }
   ],
   "source": [
    "fit = stats.linregress(running_df['timestamp'], running_df['distance'])\n",
    "fit.slope, fit.intercept"
   ]
  },
  {
   "cell_type": "code",
   "execution_count": 153,
   "metadata": {},
   "outputs": [
    {
     "data": {
      "image/png": "[encoded data removed]",
      "text/plain": [
       "<matplotlib.figure.Figure at 0x113f4a358>"
      ]
     },
     "metadata": {},
     "output_type": "display_data"
    }
   ],
   "source": [
    "plt.figure()\n",
    "plt.plot(running_df['timestamp'], running_df['distance'], 'b.', alpha = 0.5)\n",
    "plt.plot(running_df['timestamp'], running_df['timestamp']*fit.slope+fit.intercept, 'r-', linewidth=3)\n",
    "plt.show()"
   ]
  },
  {
   "cell_type": "code",
   "execution_count": 154,
   "metadata": {},
   "outputs": [
    {
     "name": "stdout",
     "output_type": "stream",
     "text": [
      "The p-value is 0.0449211795858\n"
     ]
    }
   ],
   "source": [
    "print('The p-value is', fit.pvalue)"
   ]
  },
  {
   "cell_type": "code",
   "execution_count": null,
   "metadata": {
    "collapsed": true
   },
   "outputs": [],
   "source": []
  }
 ],
 "metadata": {
  "kernelspec": {
   "display_name": "Python 3",
   "language": "python",
   "name": "python3"
  },
  "language_info": {
   "codemirror_mode": {
    "name": "ipython",
    "version": 3
   },
   "file_extension": ".py",
   "mimetype": "text/x-python",
   "name": "python",
   "nbconvert_exporter": "python",
   "pygments_lexer": "ipython3",
   "version": "3.5.3"
  }
 },
 "nbformat": 4,
 "nbformat_minor": 2
}
