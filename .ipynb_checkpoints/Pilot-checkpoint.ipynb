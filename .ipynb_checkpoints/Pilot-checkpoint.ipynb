{
 "cells": [
  {
   "cell_type": "markdown",
   "metadata": {},
   "source": [
    "# Pilot - Running Analysis"
   ]
  },
  {
   "cell_type": "markdown",
   "metadata": {},
   "source": [
    "This Jupyter Notebook is to quickly test feasibility of the things I want to do with this project"
   ]
  },
  {
   "cell_type": "code",
   "execution_count": 1,
   "metadata": {
    "collapsed": true
   },
   "outputs": [],
   "source": [
    "import numpy as np\n",
    "import pandas as pd\n",
    "import matplotlib.pyplot as plt\n",
    "import os\n",
    "from datetime import date\n",
    "from butterworth_distance import get_data#, smooth, distance\n",
    "from scipy import stats"
   ]
  },
  {
   "cell_type": "code",
   "execution_count": 2,
   "metadata": {
    "scrolled": false
   },
   "outputs": [
    {
     "name": "stdout",
     "output_type": "stream",
     "text": [
      "                   time      lat      lon\n",
      "0   2017-07-14 00:47:40  49.2806 -122.917\n",
      "1   2017-07-14 00:47:40  49.2806 -122.917\n",
      "2   2017-07-14 00:47:40  49.2806 -122.917\n",
      "3   2017-07-14 00:47:42  49.2807 -122.917\n",
      "4   2017-07-14 00:47:56  49.2808 -122.916\n",
      "5   2017-07-14 00:48:17  49.2808 -122.916\n",
      "6   2017-07-14 00:48:25  49.2808 -122.916\n",
      "7   2017-07-14 00:48:31  49.2809 -122.915\n",
      "8   2017-07-14 00:48:43  49.2809 -122.914\n",
      "9   2017-07-14 00:49:04  49.2809 -122.914\n",
      "10  2017-07-14 00:49:14  49.2809 -122.914\n",
      "11  2017-07-14 00:49:25  49.2808 -122.913\n",
      "12  2017-07-14 00:49:50  49.2807 -122.912\n",
      "13  2017-07-14 00:50:04  49.2806 -122.911\n",
      "14  2017-07-14 00:50:33  49.2806 -122.911\n",
      "15  2017-07-14 00:50:39  49.2805 -122.911\n",
      "16  2017-07-14 00:50:45  49.2804 -122.911\n",
      "17  2017-07-14 00:50:54  49.2803 -122.911\n",
      "18  2017-07-14 00:51:01  49.2804  -122.91\n",
      "19  2017-07-14 00:51:08  49.2804  -122.91\n",
      "20  2017-07-14 00:51:12  49.2805  -122.91\n",
      "21  2017-07-14 00:51:14  49.2805  -122.91\n",
      "22  2017-07-14 00:51:17  49.2806  -122.91\n",
      "23  2017-07-14 00:51:25  49.2807  -122.91\n",
      "24  2017-07-14 00:51:32  49.2808  -122.91\n",
      "25  2017-07-14 00:51:37  49.2808 -122.909\n",
      "26  2017-07-14 00:51:44  49.2809 -122.909\n",
      "27  2017-07-14 00:51:49  49.2809 -122.909\n",
      "28  2017-07-14 00:51:51  49.2809 -122.909\n",
      "29  2017-07-14 00:52:00  49.2809 -122.909\n",
      "..                  ...      ...      ...\n",
      "243 2017-07-14 01:14:02  49.2804 -122.922\n",
      "244 2017-07-14 01:14:07  49.2803 -122.922\n",
      "245 2017-07-14 01:14:16  49.2803 -122.921\n",
      "246 2017-07-14 01:14:31  49.2801  -122.92\n",
      "247 2017-07-14 01:14:58  49.2801  -122.92\n",
      "248 2017-07-14 01:15:02  49.2801  -122.92\n",
      "249 2017-07-14 01:15:05    49.28  -122.92\n",
      "250 2017-07-14 01:15:15    49.28 -122.919\n",
      "251 2017-07-14 01:15:24  49.2801 -122.919\n",
      "252 2017-07-14 01:15:31  49.2801 -122.919\n",
      "253 2017-07-14 01:15:37  49.2802 -122.918\n",
      "254 2017-07-14 01:15:48  49.2803 -122.918\n",
      "255 2017-07-14 01:15:57  49.2803 -122.918\n",
      "256 2017-07-14 01:16:00  49.2805 -122.918\n",
      "257 2017-07-14 01:16:14  49.2806 -122.917\n",
      "258 2017-07-14 01:16:23  49.2806 -122.917\n",
      "259 2017-07-14 01:16:26  49.2807 -122.917\n",
      "260 2017-07-14 01:16:41  49.2808 -122.916\n",
      "261 2017-07-14 01:17:01  49.2808 -122.916\n",
      "262 2017-07-14 01:17:09  49.2808 -122.916\n",
      "263 2017-07-14 01:17:16  49.2809 -122.915\n",
      "264 2017-07-14 01:17:27  49.2809 -122.915\n",
      "265 2017-07-14 01:17:33  49.2809 -122.915\n",
      "266 2017-07-14 01:17:38  49.2808 -122.916\n",
      "267 2017-07-14 01:17:50  49.2808 -122.916\n",
      "268 2017-07-14 01:17:56  49.2808 -122.916\n",
      "269 2017-07-14 01:18:04  49.2807 -122.917\n",
      "270 2017-07-14 01:18:25  49.2806 -122.917\n",
      "271 2017-07-14 01:18:39  49.2806 -122.917\n",
      "272 2017-07-14 01:18:42  49.2806 -122.917\n",
      "\n",
      "[273 rows x 3 columns]\n",
      "Before filtering: 4271.63\n",
      "             time        lat         lon\n",
      "0    1.499993e+18  49.280628 -122.917399\n",
      "1    1.499993e+18  49.280672 -122.917094\n",
      "2    1.499993e+18  49.280713 -122.916779\n",
      "3    1.499993e+18  49.280749 -122.916447\n",
      "4    1.499993e+18  49.280778 -122.916092\n",
      "5    1.499993e+18  49.280799 -122.915709\n",
      "6    1.499993e+18  49.280810 -122.915298\n",
      "7    1.499993e+18  49.280809 -122.914860\n",
      "8    1.499993e+18  49.280797 -122.914399\n",
      "9    1.499993e+18  49.280774 -122.913923\n",
      "10   1.499993e+18  49.280741 -122.913441\n",
      "11   1.499993e+18  49.280701 -122.912963\n",
      "12   1.499993e+18  49.280655 -122.912501\n",
      "13   1.499993e+18  49.280609 -122.912065\n",
      "14   1.499993e+18  49.280565 -122.911662\n",
      "15   1.499993e+18  49.280527 -122.911300\n",
      "16   1.499993e+18  49.280498 -122.910980\n",
      "17   1.499993e+18  49.280482 -122.910702\n",
      "18   1.499993e+18  49.280479 -122.910464\n",
      "19   1.499993e+18  49.280490 -122.910259\n",
      "20   1.499993e+18  49.280515 -122.910082\n",
      "21   1.499993e+18  49.280551 -122.909923\n",
      "22   1.499993e+18  49.280597 -122.909777\n",
      "23   1.499993e+18  49.280648 -122.909634\n",
      "24   1.499993e+18  49.280702 -122.909489\n",
      "25   1.499993e+18  49.280755 -122.909337\n",
      "26   1.499994e+18  49.280804 -122.909173\n",
      "27   1.499994e+18  49.280845 -122.908996\n",
      "28   1.499994e+18  49.280877 -122.908803\n",
      "29   1.499994e+18  49.280897 -122.908595\n",
      "..            ...        ...         ...\n",
      "243  1.499995e+18  49.280416 -122.921841\n",
      "244  1.499995e+18  49.280323 -122.921462\n",
      "245  1.499995e+18  49.280240 -122.921084\n",
      "246  1.499995e+18  49.280171 -122.920712\n",
      "247  1.499995e+18  49.280119 -122.920351\n",
      "248  1.499995e+18  49.280086 -122.920002\n",
      "249  1.499995e+18  49.280073 -122.919664\n",
      "250  1.499995e+18  49.280080 -122.919336\n",
      "251  1.499995e+18  49.280106 -122.919015\n",
      "252  1.499995e+18  49.280150 -122.918696\n",
      "253  1.499995e+18  49.280208 -122.918378\n",
      "254  1.499995e+18  49.280279 -122.918058\n",
      "255  1.499995e+18  49.280357 -122.917736\n",
      "256  1.499995e+18  49.280440 -122.917413\n",
      "257  1.499995e+18  49.280522 -122.917094\n",
      "258  1.499995e+18  49.280600 -122.916786\n",
      "259  1.499995e+18  49.280672 -122.916497\n",
      "260  1.499995e+18  49.280734 -122.916239\n",
      "261  1.499995e+18  49.280784 -122.916022\n",
      "262  1.499995e+18  49.280821 -122.915857\n",
      "263  1.499995e+18  49.280845 -122.915754\n",
      "264  1.499995e+18  49.280854 -122.915717\n",
      "265  1.499995e+18  49.280852 -122.915750\n",
      "266  1.499995e+18  49.280837 -122.915850\n",
      "267  1.499995e+18  49.280813 -122.916011\n",
      "268  1.499995e+18  49.280780 -122.916226\n",
      "269  1.499995e+18  49.280741 -122.916482\n",
      "270  1.499995e+18  49.280698 -122.916766\n",
      "271  1.499995e+18  49.280654 -122.917067\n",
      "272  1.499995e+18  49.280609 -122.917372\n",
      "\n",
      "[273 rows x 3 columns]\n"
     ]
    },
    {
     "ename": "TypeError",
     "evalue": "cannot operate on a series without a rhs of a series/ndarray of type datetime64[ns] or a timedelta",
     "output_type": "error",
     "traceback": [
      "\u001b[0;31m---------------------------------------------------------------------------\u001b[0m",
      "\u001b[0;31mTypeError\u001b[0m                                 Traceback (most recent call last)",
      "\u001b[0;32m<ipython-input-2-dc020516f3a5>\u001b[0m in \u001b[0;36m<module>\u001b[0;34m()\u001b[0m\n\u001b[1;32m     55\u001b[0m     \u001b[0;32mreturn\u001b[0m \u001b[0mlow_passed\u001b[0m\u001b[0;34m\u001b[0m\u001b[0m\n\u001b[1;32m     56\u001b[0m \u001b[0;34m\u001b[0m\u001b[0m\n\u001b[0;32m---> 57\u001b[0;31m \u001b[0mget_distance\u001b[0m\u001b[0;34m(\u001b[0m\u001b[0;34m'RK_gpx _2017-07-13_1747.gpx'\u001b[0m\u001b[0;34m)\u001b[0m\u001b[0;34m\u001b[0m\u001b[0m\n\u001b[0m",
      "\u001b[0;32m<ipython-input-2-dc020516f3a5>\u001b[0m in \u001b[0;36mget_distance\u001b[0;34m(filename)\u001b[0m\n\u001b[1;32m     41\u001b[0m     \u001b[0mprint\u001b[0m\u001b[0;34m(\u001b[0m\u001b[0;34m'Before filtering: %0.2f'\u001b[0m \u001b[0;34m%\u001b[0m \u001b[0mres\u001b[0m\u001b[0;34m)\u001b[0m\u001b[0;34m\u001b[0m\u001b[0m\n\u001b[1;32m     42\u001b[0m     \u001b[0mpoints\u001b[0m \u001b[0;34m=\u001b[0m \u001b[0msmooth\u001b[0m\u001b[0;34m(\u001b[0m\u001b[0mpoints\u001b[0m\u001b[0;34m)\u001b[0m\u001b[0;34m\u001b[0m\u001b[0m\n\u001b[0;32m---> 43\u001b[0;31m     \u001b[0mres\u001b[0m \u001b[0;34m=\u001b[0m \u001b[0mdistance\u001b[0m\u001b[0;34m(\u001b[0m\u001b[0mpoints\u001b[0m\u001b[0;34m)\u001b[0m\u001b[0;34m\u001b[0m\u001b[0m\n\u001b[0m\u001b[1;32m     44\u001b[0m     \u001b[0mprint\u001b[0m\u001b[0;34m(\u001b[0m\u001b[0;34m'After filtering: %0.2f'\u001b[0m \u001b[0;34m%\u001b[0m \u001b[0mres\u001b[0m\u001b[0;34m)\u001b[0m\u001b[0;34m\u001b[0m\u001b[0m\n\u001b[1;32m     45\u001b[0m     \u001b[0;32mreturn\u001b[0m \u001b[0mres\u001b[0m\u001b[0;34m\u001b[0m\u001b[0m\n",
      "\u001b[0;32m<ipython-input-2-dc020516f3a5>\u001b[0m in \u001b[0;36mdistance\u001b[0;34m(data)\u001b[0m\n\u001b[1;32m      5\u001b[0m     \u001b[0mdata\u001b[0m \u001b[0;34m=\u001b[0m \u001b[0mpd\u001b[0m\u001b[0;34m.\u001b[0m\u001b[0mconcat\u001b[0m\u001b[0;34m(\u001b[0m\u001b[0;34m[\u001b[0m\u001b[0mdata\u001b[0m\u001b[0;34m,\u001b[0m \u001b[0mnextdata\u001b[0m\u001b[0;34m]\u001b[0m\u001b[0;34m,\u001b[0m \u001b[0maxis\u001b[0m\u001b[0;34m=\u001b[0m\u001b[0;36m1\u001b[0m\u001b[0;34m)\u001b[0m\u001b[0;34m\u001b[0m\u001b[0m\n\u001b[1;32m      6\u001b[0m     \u001b[0mdata\u001b[0m\u001b[0;34m[\u001b[0m\u001b[0;34m'nexttime'\u001b[0m\u001b[0;34m]\u001b[0m \u001b[0;34m=\u001b[0m \u001b[0mpd\u001b[0m\u001b[0;34m.\u001b[0m\u001b[0mto_datetime\u001b[0m\u001b[0;34m(\u001b[0m\u001b[0mdata\u001b[0m\u001b[0;34m[\u001b[0m\u001b[0;34m'nexttime'\u001b[0m\u001b[0;34m]\u001b[0m\u001b[0;34m)\u001b[0m\u001b[0;34m\u001b[0m\u001b[0m\n\u001b[0;32m----> 7\u001b[0;31m     \u001b[0mdata\u001b[0m\u001b[0;34m[\u001b[0m\u001b[0;34m'timediff'\u001b[0m\u001b[0;34m]\u001b[0m \u001b[0;34m=\u001b[0m \u001b[0mdata\u001b[0m\u001b[0;34m[\u001b[0m\u001b[0;34m'nexttime'\u001b[0m\u001b[0;34m]\u001b[0m \u001b[0;34m-\u001b[0m \u001b[0mdata\u001b[0m\u001b[0;34m[\u001b[0m\u001b[0;34m'time'\u001b[0m\u001b[0;34m]\u001b[0m\u001b[0;34m\u001b[0m\u001b[0m\n\u001b[0m\u001b[1;32m      8\u001b[0m \u001b[0;31m#    data = data.drop(['nexttime', 'time'], axis=1)\u001b[0m\u001b[0;34m\u001b[0m\u001b[0;34m\u001b[0m\u001b[0m\n\u001b[1;32m      9\u001b[0m \u001b[0;34m\u001b[0m\u001b[0m\n",
      "\u001b[0;32m/Users/vasundhara/anaconda3/lib/python3.5/site-packages/pandas/core/ops.py\u001b[0m in \u001b[0;36mwrapper\u001b[0;34m(left, right, name, na_op)\u001b[0m\n\u001b[1;32m    700\u001b[0m         \u001b[0mleft\u001b[0m\u001b[0;34m,\u001b[0m \u001b[0mright\u001b[0m \u001b[0;34m=\u001b[0m \u001b[0m_align_method_SERIES\u001b[0m\u001b[0;34m(\u001b[0m\u001b[0mleft\u001b[0m\u001b[0;34m,\u001b[0m \u001b[0mright\u001b[0m\u001b[0;34m)\u001b[0m\u001b[0;34m\u001b[0m\u001b[0m\n\u001b[1;32m    701\u001b[0m \u001b[0;34m\u001b[0m\u001b[0m\n\u001b[0;32m--> 702\u001b[0;31m         \u001b[0mconverted\u001b[0m \u001b[0;34m=\u001b[0m \u001b[0m_Op\u001b[0m\u001b[0;34m.\u001b[0m\u001b[0mget_op\u001b[0m\u001b[0;34m(\u001b[0m\u001b[0mleft\u001b[0m\u001b[0;34m,\u001b[0m \u001b[0mright\u001b[0m\u001b[0;34m,\u001b[0m \u001b[0mname\u001b[0m\u001b[0;34m,\u001b[0m \u001b[0mna_op\u001b[0m\u001b[0;34m)\u001b[0m\u001b[0;34m\u001b[0m\u001b[0m\n\u001b[0m\u001b[1;32m    703\u001b[0m \u001b[0;34m\u001b[0m\u001b[0m\n\u001b[1;32m    704\u001b[0m         \u001b[0mleft\u001b[0m\u001b[0;34m,\u001b[0m \u001b[0mright\u001b[0m \u001b[0;34m=\u001b[0m \u001b[0mconverted\u001b[0m\u001b[0;34m.\u001b[0m\u001b[0mleft\u001b[0m\u001b[0;34m,\u001b[0m \u001b[0mconverted\u001b[0m\u001b[0;34m.\u001b[0m\u001b[0mright\u001b[0m\u001b[0;34m\u001b[0m\u001b[0m\n",
      "\u001b[0;32m/Users/vasundhara/anaconda3/lib/python3.5/site-packages/pandas/core/ops.py\u001b[0m in \u001b[0;36mget_op\u001b[0;34m(cls, left, right, name, na_op)\u001b[0m\n\u001b[1;32m    332\u001b[0m             \u001b[0;32mreturn\u001b[0m \u001b[0m_Op\u001b[0m\u001b[0;34m(\u001b[0m\u001b[0mleft\u001b[0m\u001b[0;34m,\u001b[0m \u001b[0mright\u001b[0m\u001b[0;34m,\u001b[0m \u001b[0mname\u001b[0m\u001b[0;34m,\u001b[0m \u001b[0mna_op\u001b[0m\u001b[0;34m)\u001b[0m\u001b[0;34m\u001b[0m\u001b[0m\n\u001b[1;32m    333\u001b[0m         \u001b[0;32melse\u001b[0m\u001b[0;34m:\u001b[0m\u001b[0;34m\u001b[0m\u001b[0m\n\u001b[0;32m--> 334\u001b[0;31m             \u001b[0;32mreturn\u001b[0m \u001b[0m_TimeOp\u001b[0m\u001b[0;34m(\u001b[0m\u001b[0mleft\u001b[0m\u001b[0;34m,\u001b[0m \u001b[0mright\u001b[0m\u001b[0;34m,\u001b[0m \u001b[0mname\u001b[0m\u001b[0;34m,\u001b[0m \u001b[0mna_op\u001b[0m\u001b[0;34m)\u001b[0m\u001b[0;34m\u001b[0m\u001b[0m\n\u001b[0m\u001b[1;32m    335\u001b[0m \u001b[0;34m\u001b[0m\u001b[0m\n\u001b[1;32m    336\u001b[0m \u001b[0;34m\u001b[0m\u001b[0m\n",
      "\u001b[0;32m/Users/vasundhara/anaconda3/lib/python3.5/site-packages/pandas/core/ops.py\u001b[0m in \u001b[0;36m__init__\u001b[0;34m(self, left, right, name, na_op)\u001b[0m\n\u001b[1;32m    368\u001b[0m         \u001b[0mself\u001b[0m\u001b[0;34m.\u001b[0m\u001b[0mis_floating_rhs\u001b[0m \u001b[0;34m=\u001b[0m \u001b[0mrvalues\u001b[0m\u001b[0;34m.\u001b[0m\u001b[0mdtype\u001b[0m\u001b[0;34m.\u001b[0m\u001b[0mkind\u001b[0m \u001b[0;34m==\u001b[0m \u001b[0;34m'f'\u001b[0m\u001b[0;34m\u001b[0m\u001b[0m\n\u001b[1;32m    369\u001b[0m \u001b[0;34m\u001b[0m\u001b[0m\n\u001b[0;32m--> 370\u001b[0;31m         \u001b[0mself\u001b[0m\u001b[0;34m.\u001b[0m\u001b[0m_validate\u001b[0m\u001b[0;34m(\u001b[0m\u001b[0mlvalues\u001b[0m\u001b[0;34m,\u001b[0m \u001b[0mrvalues\u001b[0m\u001b[0;34m,\u001b[0m \u001b[0mname\u001b[0m\u001b[0;34m)\u001b[0m\u001b[0;34m\u001b[0m\u001b[0m\n\u001b[0m\u001b[1;32m    371\u001b[0m         self.lvalues, self.rvalues = self._convert_for_datetime(lvalues,\n\u001b[1;32m    372\u001b[0m                                                                 rvalues)\n",
      "\u001b[0;32m/Users/vasundhara/anaconda3/lib/python3.5/site-packages/pandas/core/ops.py\u001b[0m in \u001b[0;36m_validate\u001b[0;34m(self, lvalues, rvalues, name)\u001b[0m\n\u001b[1;32m    437\u001b[0m                                 \"operator [%s] was passed\" % name)\n\u001b[1;32m    438\u001b[0m         \u001b[0;32melse\u001b[0m\u001b[0;34m:\u001b[0m\u001b[0;34m\u001b[0m\u001b[0m\n\u001b[0;32m--> 439\u001b[0;31m             raise TypeError('cannot operate on a series without a rhs '\n\u001b[0m\u001b[1;32m    440\u001b[0m                             \u001b[0;34m'of a series/ndarray of type datetime64[ns] '\u001b[0m\u001b[0;34m\u001b[0m\u001b[0m\n\u001b[1;32m    441\u001b[0m                             'or a timedelta')\n",
      "\u001b[0;31mTypeError\u001b[0m: cannot operate on a series without a rhs of a series/ndarray of type datetime64[ns] or a timedelta"
     ]
    }
   ],
   "source": [
    "def distance(data): # returns distance in m\n",
    "    print(data)\n",
    "    nextdata = pd.DataFrame([data['lat'], data['lon'], data['time']], [\"nextlat\", \"nextlon\",\"nexttime\"])\n",
    "    nextdata = nextdata.transpose().shift(periods=-1, axis=0)\n",
    "    data = pd.concat([data, nextdata], axis=1)\n",
    "    data['nexttime'] = pd.to_datetime(data['nexttime'])\n",
    "    data['timediff'] = data['nexttime'] - data['time']\n",
    "    \n",
    "    radius=6371000\n",
    "    lat = radify(data['lat']).astype(np.float64)\n",
    "    lon = radify(data['lon']).astype(np.float64)\n",
    "    nextlat = radify(data['nextlat']).astype(np.float64)\n",
    "    nextlon = radify(data['nextlon']).astype(np.float64)\n",
    "    \n",
    "    a = 2*radius\n",
    "    b = (np.sin((nextlat-lat)/2))**2\n",
    "    c = np.cos(lat) * np.cos(nextlat) * ((nextlon-lon)/2)**2\n",
    "\n",
    "    data['distbetween'] = a*np.arcsin(np.sqrt(b+c))\n",
    "    \n",
    "    # Want to exclude any pauses (gaps in GPS data longer than 8 seconds)\n",
    "    # and any slow running (pace greater than 0.67 s/m, same as speed\n",
    "    # less than 1.5 m/s)\n",
    "    data['pace'] = data['timediff'] / data['distbetween']\n",
    "    \n",
    "    maximumtime = pd.Timedelta(seconds=8)\n",
    "    maximumpace = pd.Timedelta(seconds=0.67)\n",
    "\n",
    "    data = data[(data['timediff'] <= maximumtime) | (data['pace'] <= maximumpace)]\n",
    "    \n",
    "    totaldistance = pd.DataFrame.sum(data['distbetween'], axis=0)\n",
    "    return totaldistance\n",
    "\n",
    "def radify(column):\n",
    "    return column * np.pi / 180\n",
    "    \n",
    "def get_distance(filename):\n",
    "    points = get_data(filename)\n",
    "    res = distance(points)\n",
    "    print('Before filtering: %0.2f' % res)\n",
    "    points = smooth(points)\n",
    "    res = distance(points)\n",
    "    print('After filtering: %0.2f' % res)\n",
    "    return res\n",
    "\n",
    "def smooth(data):\n",
    "    # Return Butterworth-smoothed data, eventually\n",
    "    from scipy import signal\n",
    "    b, a = signal.butter(3, 0.1)#, btype='lowpass', analog=False)\n",
    "    lat = signal.filtfilt(b, a, data['lat'])\n",
    "    lon = signal.filtfilt(b, a, data['lon'])\n",
    "    low_passed = pd.DataFrame([data['time'], lat, lon], [\"time\", \"lat\", \"lon\"])\n",
    "    low_passed = low_passed.transpose()\n",
    "    return low_passed\n",
    "\n",
    "get_distance('RK_gpx _2017-07-13_1747.gpx')"
   ]
  },
  {
   "cell_type": "code",
   "execution_count": null,
   "metadata": {
    "collapsed": true
   },
   "outputs": [],
   "source": [
    "running_data = []\n",
    "for filename in os.listdir(os.getcwd()):\n",
    "    if (filename[-4::] == '.gpx'):\n",
    "        running_data.append(filename)"
   ]
  },
  {
   "cell_type": "code",
   "execution_count": null,
   "metadata": {},
   "outputs": [],
   "source": [
    "running_df = pd.DataFrame(data=running_data, columns=['filename'])\n",
    "running_df['datetime'] = running_df['filename'].str.slice(start=8, stop=23)"
   ]
  },
  {
   "cell_type": "code",
   "execution_count": null,
   "metadata": {
    "collapsed": true
   },
   "outputs": [],
   "source": [
    "# strptime stuff"
   ]
  },
  {
   "cell_type": "code",
   "execution_count": null,
   "metadata": {
    "collapsed": true
   },
   "outputs": [],
   "source": [
    "running_df['datetime'] = pd.to_datetime(running_df['datetime'], format='%Y-%m-%d_%H%M')\n",
    "def to_timestamp(inputdatetime):\n",
    "    return inputdatetime.timestamp()\n",
    "running_df['timestamp'] = running_df['datetime'].apply(to_timestamp)"
   ]
  },
  {
   "cell_type": "code",
   "execution_count": null,
   "metadata": {
    "scrolled": true
   },
   "outputs": [],
   "source": [
    "running_df['distance'] = running_df['filename'].apply(get_distance)"
   ]
  },
  {
   "cell_type": "code",
   "execution_count": null,
   "metadata": {},
   "outputs": [],
   "source": [
    "fit = stats.linregress(running_df['timestamp'], running_df['distance'])\n",
    "fit.slope, fit.intercept"
   ]
  },
  {
   "cell_type": "code",
   "execution_count": null,
   "metadata": {},
   "outputs": [],
   "source": [
    "plt.figure()\n",
    "plt.plot(running_df['datetime'], running_df['distance'], 'b.', alpha = 0.5)\n",
    "plt.plot(running_df['datetime'], running_df['timestamp']*fit.slope+fit.intercept, 'r-', linewidth=3)\n",
    "plt.xticks(rotation=70)\n",
    "plt.show()"
   ]
  },
  {
   "cell_type": "code",
   "execution_count": null,
   "metadata": {},
   "outputs": [],
   "source": [
    "print('The p-value is', fit.pvalue)"
   ]
  },
  {
   "cell_type": "code",
   "execution_count": null,
   "metadata": {
    "collapsed": true
   },
   "outputs": [],
   "source": []
  },
  {
   "cell_type": "code",
   "execution_count": null,
   "metadata": {
    "collapsed": true
   },
   "outputs": [],
   "source": []
  },
  {
   "cell_type": "code",
   "execution_count": null,
   "metadata": {
    "collapsed": true
   },
   "outputs": [],
   "source": []
  }
 ],
 "metadata": {
  "kernelspec": {
   "display_name": "Python 3",
   "language": "python",
   "name": "python3"
  },
  "language_info": {
   "codemirror_mode": {
    "name": "ipython",
    "version": 3
   },
   "file_extension": ".py",
   "mimetype": "text/x-python",
   "name": "python",
   "nbconvert_exporter": "python",
   "pygments_lexer": "ipython3",
   "version": "3.5.3"
  }
 },
 "nbformat": 4,
 "nbformat_minor": 2
}
